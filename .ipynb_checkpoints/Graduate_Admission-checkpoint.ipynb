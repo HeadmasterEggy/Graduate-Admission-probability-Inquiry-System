{
 "cells": [
  {
   "cell_type": "code",
   "execution_count": 1,
   "id": "afd6fa07-27b5-43ba-bc5e-08d30530a920",
   "metadata": {
    "ExecuteTime": {
     "end_time": "2024-04-23T05:30:23.582916Z",
     "start_time": "2024-04-23T05:30:23.329026Z"
    },
    "tags": []
   },
   "source": [
    "import numpy as np\n",
    "import pandas as pd\n",
    "import matplotlib.pyplot as plt\n",
    "import seaborn as sns\n",
    "from joblib import dump\n",
    "\n",
    "from collections import Counter\n",
    "\n",
    "import warnings\n",
    "\n",
    "warnings.filterwarnings('ignore')\n",
    "\n",
    "sns.set_style('darkgrid')\n",
    "\n",
    "from sklearn.metrics import accuracy_score, precision_score, recall_score, f1_score, confusion_matrix\n",
    "from sklearn.model_selection import cross_val_score\n",
    "\n",
    "plt.rcParams['font.family'] = ['Heiti TC']\n",
    "\n",
    "from sklearn.linear_model import LogisticRegression\n",
    "from sklearn.tree import DecisionTreeClassifier\n",
    "from sklearn.ensemble import RandomForestClassifier, AdaBoostClassifier\n",
    "from sklearn.neighbors import KNeighborsClassifier\n",
    "from sklearn.svm import SVC\n",
    "from sklearn.naive_bayes import GaussianNB\n"
   ],
   "outputs": []
  },
  {
   "cell_type": "code",
   "execution_count": 68,
   "id": "02e05e9b-e468-4f1d-9d66-db5d904476c3",
   "metadata": {
    "ExecuteTime": {
     "end_time": "2024-04-23T05:30:23.594240Z",
     "start_time": "2024-04-23T05:30:23.583877Z"
    },
    "tags": []
   },
   "source": [
    "df = pd.read_csv('Graduate Admission/Admission_Predict_Ver1.1.csv')"
   ],
   "outputs": []
  },
  {
   "cell_type": "code",
   "execution_count": 70,
   "id": "b56dcbed-2479-4508-8b93-6a2837f33994",
   "metadata": {
    "ExecuteTime": {
     "end_time": "2024-04-23T05:30:23.603821Z",
     "start_time": "2024-04-23T05:30:23.594808Z"
    },
    "tags": []
   },
   "source": [
    "df.head(10)"
   ],
   "outputs": []
  },
  {
   "cell_type": "code",
   "execution_count": 72,
   "id": "dbe366f1-b720-4b45-8155-183ddde7bf1d",
   "metadata": {
    "ExecuteTime": {
     "end_time": "2024-04-23T05:30:23.617340Z",
     "start_time": "2024-04-23T05:30:23.605315Z"
    },
    "tags": []
   },
   "source": [
    "df.info()"
   ],
   "outputs": []
  },
  {
   "cell_type": "code",
   "execution_count": 74,
   "id": "9d2fd499-0e39-4cfc-aafe-3199c5232c26",
   "metadata": {
    "ExecuteTime": {
     "end_time": "2024-04-23T05:30:23.619798Z",
     "start_time": "2024-04-23T05:30:23.618095Z"
    },
    "tags": []
   },
   "source": [
    "l = df.columns\n",
    "print('段名为: ', l)"
   ],
   "outputs": []
  },
  {
   "cell_type": "code",
   "execution_count": 76,
   "id": "1b94cf61-a192-4c30-8144-894d63cd69f1",
   "metadata": {
    "ExecuteTime": {
     "end_time": "2024-04-23T05:30:23.622016Z",
     "start_time": "2024-04-23T05:30:23.620287Z"
    },
    "tags": []
   },
   "source": [
    "print(df.isnull().sum())"
   ],
   "outputs": []
  },
  {
   "cell_type": "code",
   "execution_count": 78,
   "id": "04fd87be-fc97-4713-a3ad-be5acd7d7b5b",
   "metadata": {
    "ExecuteTime": {
     "end_time": "2024-04-23T05:30:23.629757Z",
     "start_time": "2024-04-23T05:30:23.623903Z"
    },
    "tags": []
   },
   "source": [
    "import numpy as np\n",
    "from collections import Counter\n",
    "\n",
    "\n",
    "def detect_outliers(df, n, features):\n",
    "    \"\"\"\n",
    "    接受一个DataFrame（df）和特征列表，返回包含超过n个Tukey方法定义的异常值的观察索引列表。\n",
    "    参数:\n",
    "    df : DataFrame, 包含数据的DataFrame。\n",
    "    n : int, 被认为是多异常值的最小数量。\n",
    "    features : list, 需要检查异常值的特征列表。\n",
    "    \"\"\"\n",
    "    outlier_indices = []\n",
    "\n",
    "    # 遍历每个特征（列）\n",
    "    for col in features:\n",
    "        # 第一四分位数（25%）\n",
    "        Q1 = np.percentile(df[col], 25)\n",
    "        # 第三四分位数（75%）\n",
    "        Q3 = np.percentile(df[col], 75)\n",
    "        # 四分位数间距（IQR）\n",
    "        IQR = Q3 - Q1\n",
    "\n",
    "        # 异常值的步长\n",
    "        outlier_step = 1.5 * IQR\n",
    "\n",
    "        # 确定特征col的异常值索引列表\n",
    "        outlier_list_col = df[(df[col] < Q1 - outlier_step) | (df[col] > Q3 + outlier_step)].index\n",
    "\n",
    "        # 将找到的异常值索引附加到异常值索引列表\n",
    "        outlier_indices.extend(outlier_list_col)\n",
    "\n",
    "    # 选择包含多于n个异常值的观察\n",
    "    outlier_indices = Counter(outlier_indices)\n",
    "    multiple_outliers = [k for k, v in outlier_indices.items() if v > n]\n",
    "\n",
    "    return multiple_outliers\n",
    "\n",
    "\n",
    "outliers_to_drop = detect_outliers(df, 2,\n",
    "                                   ['GRE Score', 'TOEFL Score', 'University Rating', 'SOP', 'LOR', 'CGPA', 'Research'])\n",
    "\n",
    "# 使用该函数时需要指定DataFrame df及其它参数\n",
    "# 例如：outliers_to_drop = detect_outliers(df, 2, ['GRE Score', 'TOEFL Score', 'University Rating', 'SOP', 'LOR ', 'CGPA', 'Research'])\n"
   ],
   "outputs": []
  },
  {
   "cell_type": "markdown",
   "id": "a6611cca-4655-4cbb-9ab7-06fda6bafd47",
   "metadata": {},
   "source": [
    "因为异常值会对预测（特别是在回归问题中）产生巨大影响，所以我选择了管理这些异常值。\n",
    "\n",
    "我使用了Tukey方法（Tukey JW., 1977）来检测异常值，该方法定义了一个介于分布值的第一四分位数和第三四分位数之间的四分位数间距（IQR）。如果某行数据在某个特征值上超出了（IQR ± 异常值步长）的范围，那么这一行就被视为含有异常值。\n",
    "\n",
    "我决定从数值特征（GRE Score, TOEFL Score, University Rating, SOP, LOR , CGPA, Research）中检测异常值。然后，我将那些至少有两个异常数值的行视为异常值行。"
   ]
  },
  {
   "cell_type": "code",
   "execution_count": 81,
   "id": "2e7ba78b-cfdb-476d-99e2-b3ea15240ce7",
   "metadata": {
    "ExecuteTime": {
     "end_time": "2024-04-23T05:30:23.633250Z",
     "start_time": "2024-04-23T05:30:23.630250Z"
    },
    "tags": []
   },
   "source": [
    "# 显示异常值行\n",
    "df.loc[outliers_to_drop]"
   ],
   "outputs": []
  },
  {
   "cell_type": "markdown",
   "id": "d90aa3a3-665c-4c6d-accc-5d2ee5c9e196",
   "metadata": {},
   "source": [
    "不存在异常值，因为所有的值都在一个固定的范围内，没有一个值会低于或超过这个范围，因此不产生异常值"
   ]
  },
  {
   "cell_type": "code",
   "execution_count": 84,
   "id": "6d7bb790-d1b1-4a70-8e33-13fd4a77888c",
   "metadata": {
    "ExecuteTime": {
     "end_time": "2024-04-23T05:30:23.638377Z",
     "start_time": "2024-04-23T05:30:23.633900Z"
    },
    "tags": []
   },
   "source": [
    "cols = df.drop(labels='Serial No.', axis=1)\n",
    "\n",
    "cols.head().T"
   ],
   "outputs": []
  },
  {
   "cell_type": "code",
   "execution_count": 86,
   "id": "6427837c-aef0-43a0-a2dd-40bcee5ec796",
   "metadata": {
    "ExecuteTime": {
     "end_time": "2024-04-23T05:30:23.875427Z",
     "start_time": "2024-04-23T05:30:23.638991Z"
    },
    "tags": []
   },
   "source": [
    "# 计算相关性矩阵\n",
    "corr = cols.corr()\n",
    "\n",
    "# 创建一个用于掩盖矩阵上三角的掩码\n",
    "mask = np.zeros_like(corr, dtype=bool)\n",
    "mask[np.triu_indices_from(mask)] = True\n",
    "\n",
    "# 设置绘图风格和图像大小\n",
    "with sns.axes_style(\"white\"):\n",
    "    f, ax = plt.subplots(figsize=(9, 7))\n",
    "    # 绘制带掩码的热图，设置正方形格子，注释，格式化数字，线宽和颜色映射\n",
    "    ax = sns.heatmap(corr, mask=mask, square=True, annot=True, fmt='0.2f', linewidths=.8, cmap=\"hsv\")\n",
    "plt.show()  # 显示图像"
   ],
   "outputs": []
  },
  {
   "cell_type": "markdown",
   "id": "3ee578f4-3664-4638-a1ce-2f75ca865dde",
   "metadata": {},
   "source": [
    "可以看到，录取的机会与CGPA高度相关，GRE和托福成绩也是相关的。"
   ]
  },
  {
   "cell_type": "markdown",
   "id": "6cf11533-f9ae-4e72-9032-19aaac0aea17",
   "metadata": {},
   "source": [
    "从上面的配对图推断:\n",
    "\n",
    "GRE成绩、托福成绩、CGPA成绩均呈线性相关关系\n",
    "无论如何，研究型学生往往得分更高"
   ]
  },
  {
   "cell_type": "code",
   "execution_count": 90,
   "id": "23de4a54-0048-4368-afd6-3bfe6e27d0d5",
   "metadata": {
    "ExecuteTime": {
     "end_time": "2024-04-23T05:30:23.883154Z",
     "start_time": "2024-04-23T05:30:23.878757Z"
    },
    "tags": []
   },
   "source": [
    "df.drop(columns='Serial No.', inplace=True)"
   ],
   "outputs": []
  },
  {
   "cell_type": "code",
   "execution_count": 92,
   "id": "0bcaddca-179a-45fc-b987-8e2097b6f581",
   "metadata": {
    "ExecuteTime": {
     "end_time": "2024-04-23T05:30:24.827779Z",
     "start_time": "2024-04-23T05:30:23.888523Z"
    },
    "tags": []
   },
   "source": [
    "images_per_row = 4\n",
    "plt.figure(figsize=(15, 8))\n",
    "\n",
    "# 循环绘制每个列的分布图\n",
    "for i, col in enumerate(df.columns):\n",
    "    if df[col].dtype != 'object':\n",
    "        plt.subplot(2, images_per_row, i + 1)\n",
    "        sns.histplot(df[col], kde=True, color='green')\n",
    "        plt.xlabel(col)\n",
    "\n",
    "plt.tight_layout()\n",
    "plt.show()"
   ],
   "outputs": []
  },
  {
   "cell_type": "code",
   "execution_count": 94,
   "id": "4781ab25-82bc-4379-9a90-89dcf4b4fdf8",
   "metadata": {
    "ExecuteTime": {
     "end_time": "2024-04-23T05:30:24.834605Z",
     "start_time": "2024-04-23T05:30:24.830611Z"
    },
    "tags": []
   },
   "source": [
    "X = df.drop('Chance of Admit', axis=1)\n",
    "y = df['Chance of Admit']"
   ],
   "outputs": []
  },
  {
   "cell_type": "code",
   "execution_count": 96,
   "id": "a101cecb-028e-4cdb-8e34-70aae43fb0cc",
   "metadata": {
    "ExecuteTime": {
     "end_time": "2024-04-23T05:30:24.844737Z",
     "start_time": "2024-04-23T05:30:24.835750Z"
    },
    "tags": []
   },
   "source": [
    "from sklearn.model_selection import train_test_split\n",
    "\n",
    "X_train, X_test, y_train, y_test = train_test_split(X, y, test_size=0.2, random_state=42)"
   ],
   "outputs": []
  },
  {
   "cell_type": "code",
   "execution_count": 98,
   "id": "80d3d278-3dfb-4a1c-b5ef-7169e513f007",
   "metadata": {
    "ExecuteTime": {
     "end_time": "2024-04-23T05:30:24.851142Z",
     "start_time": "2024-04-23T05:30:24.845604Z"
    },
    "tags": []
   },
   "source": [
    "X_train"
   ],
   "outputs": []
  },
  {
   "cell_type": "code",
   "execution_count": 100,
   "id": "3af0a4eb-ac6f-4b99-9588-88cdeb93c9b4",
   "metadata": {
    "ExecuteTime": {
     "end_time": "2024-04-23T05:30:24.856039Z",
     "start_time": "2024-04-23T05:30:24.852177Z"
    },
    "tags": []
   },
   "source": [
    "# 缩放值\n",
    "from sklearn.preprocessing import MinMaxScaler\n",
    "\n",
    "scaler = MinMaxScaler()\n",
    "\n",
    "X_train = scaler.fit_transform(X_train)\n",
    "X_test = scaler.transform(X_test)"
   ],
   "outputs": []
  },
  {
   "cell_type": "code",
   "execution_count": 102,
   "id": "19c06cba-285b-4d8b-a65a-2a6863e8207f",
   "metadata": {
    "ExecuteTime": {
     "end_time": "2024-04-23T05:30:24.859358Z",
     "start_time": "2024-04-23T05:30:24.856465Z"
    },
    "tags": []
   },
   "source": [
    "X_train"
   ],
   "outputs": []
  },
  {
   "cell_type": "code",
   "execution_count": 106,
   "id": "48218d7fcff8fda6",
   "metadata": {
    "ExecuteTime": {
     "end_time": "2024-04-23T05:30:24.863330Z",
     "start_time": "2024-04-23T05:30:24.860007Z"
    },
    "tags": []
   },
   "source": [
    "import pickle\n",
    "# 保存模型\n",
    "pickle.dump(scaler, open('models/scaler.pkl', 'wb'))"
   ],
   "outputs": []
  },
  {
   "cell_type": "markdown",
   "id": "1f5d45e7-1b16-4c36-bfe4-ddcb6d43e980",
   "metadata": {},
   "source": [
    "## 模型构建：神经网络架构"
   ]
  },
  {
   "cell_type": "code",
   "execution_count": 109,
   "id": "81a7a4f8-f085-4e09-8c3c-f7c141378b89",
   "metadata": {
    "ExecuteTime": {
     "end_time": "2024-04-23T05:30:27.242393Z",
     "start_time": "2024-04-23T05:30:24.863797Z"
    },
    "tags": []
   },
   "source": [
    "import tensorflow\n",
    "from tensorflow import keras\n",
    "from tensorflow.keras import Sequential\n",
    "from tensorflow.keras.layers import Dense"
   ],
   "outputs": []
  },
  {
   "cell_type": "code",
   "execution_count": 111,
   "id": "1d37a97b-35a4-40c5-bcbb-06a519028e3e",
   "metadata": {
    "ExecuteTime": {
     "end_time": "2024-04-23T05:30:27.339920Z",
     "start_time": "2024-04-23T05:30:27.242996Z"
    },
    "tags": []
   },
   "source": [
    "# 创建一个顺序模型对象\n",
    "model = Sequential()\n",
    "\n",
    "# 添加层到模型\n",
    "# 输入层和隐藏层：\n",
    "model.add(Dense(7, activation='relu', input_dim=7))\n",
    "# 输出层：1个输出，使用线性激活函数，适合回归问题\n",
    "model.add(Dense(1, activation='linear'))"
   ],
   "outputs": []
  },
  {
   "cell_type": "code",
   "execution_count": 113,
   "id": "bddd9da2-d039-42bf-a2e7-6577a5c92ddc",
   "metadata": {
    "ExecuteTime": {
     "end_time": "2024-04-23T05:30:27.346044Z",
     "start_time": "2024-04-23T05:30:27.340607Z"
    },
    "tags": []
   },
   "source": [
    "model.summary()"
   ],
   "outputs": []
  },
  {
   "cell_type": "code",
   "execution_count": 115,
   "id": "a5dd75db-7c6f-4d08-9807-8e0be5d7027b",
   "metadata": {
    "ExecuteTime": {
     "end_time": "2024-04-23T05:30:27.359337Z",
     "start_time": "2024-04-23T05:30:27.349433Z"
    },
    "tags": []
   },
   "source": [
    "# 回归问题（损失函数 - 均方误差）\n",
    "model.compile(loss='mean_squared_error', optimizer='Adam')"
   ],
   "outputs": []
  },
  {
   "cell_type": "code",
   "execution_count": 117,
   "id": "253779f0-cec7-4fef-81a0-ae4fac596e93",
   "metadata": {
    "ExecuteTime": {
     "end_time": "2024-04-23T05:30:28.375823Z",
     "start_time": "2024-04-23T05:30:27.359816Z"
    },
    "tags": []
   },
   "source": [
    "history = model.fit(X_train, y_train, epochs=10, validation_split=0.2)"
   ],
   "outputs": []
  },
  {
   "cell_type": "code",
   "execution_count": 118,
   "id": "223bfdc2-1129-4ad2-9556-2bb515942b98",
   "metadata": {
    "ExecuteTime": {
     "end_time": "2024-04-23T05:30:28.380728Z",
     "start_time": "2024-04-23T05:30:28.376368Z"
    },
    "tags": []
   },
   "source": [
    "# 获取第0层的权重和偏置\n",
    "model.layers[0].get_weights()"
   ],
   "outputs": []
  },
  {
   "cell_type": "code",
   "execution_count": 121,
   "id": "2a4d44c7-c896-4678-9fb2-f735e1ab51b8",
   "metadata": {
    "ExecuteTime": {
     "end_time": "2024-04-23T05:30:28.446078Z",
     "start_time": "2024-04-23T05:30:28.381341Z"
    },
    "tags": []
   },
   "source": [
    "y_pred = model.predict(X_test)"
   ],
   "outputs": []
  },
  {
   "cell_type": "code",
   "execution_count": 123,
   "id": "998daa4e-e380-41c5-b180-a0ce865b245e",
   "metadata": {
    "ExecuteTime": {
     "end_time": "2024-04-23T05:30:28.449079Z",
     "start_time": "2024-04-23T05:30:28.446664Z"
    },
    "tags": []
   },
   "source": [
    "from sklearn.metrics import r2_score\n",
    "\n",
    "r2_score(y_test, y_pred)"
   ],
   "outputs": []
  },
  {
   "cell_type": "markdown",
   "id": "010492d0-c734-441d-9ef2-5cfb855dd25d",
   "metadata": {},
   "source": [
    "R2 得分呈负数表示回归模型的性能比拟合数据的水平线差。这表明该模型无法捕获特征和目标变量之间的任何有意义的关系，从而导致预测性能较差。"
   ]
  },
  {
   "cell_type": "code",
   "execution_count": 126,
   "id": "f50eff5c-ffc4-48e7-82a6-23c6571760a3",
   "metadata": {
    "ExecuteTime": {
     "end_time": "2024-04-23T05:30:28.513034Z",
     "start_time": "2024-04-23T05:30:28.449483Z"
    },
    "tags": []
   },
   "source": [
    "plt.plot(history.history['loss'])\n",
    "plt.plot(history.history['val_loss'])"
   ],
   "outputs": []
  },
  {
   "cell_type": "markdown",
   "id": "b00e775c-f9e8-416a-a29f-c45f7670f222",
   "metadata": {},
   "source": [
    "## 模型改进"
   ]
  },
  {
   "cell_type": "code",
   "execution_count": 129,
   "id": "32784088-4c6f-4045-a712-a8d05c8991b7",
   "metadata": {
    "ExecuteTime": {
     "end_time": "2024-04-23T05:30:28.587461Z",
     "start_time": "2024-04-23T05:30:28.513721Z"
    },
    "tags": []
   },
   "source": [
    "# 创建模型对象\n",
    "model = Sequential()\n",
    "\n",
    "# 输入层\n",
    "model.add(Dense(15, activation='relu', input_dim=7))\n",
    "\n",
    "# 隐藏层\n",
    "model.add(Dense(15, activation='relu'))\n",
    "model.add(Dense(10, activation='relu'))\n",
    "model.add(Dense(15, activation='relu'))\n",
    "\n",
    "# 输出层\n",
    "model.add(Dense(1, activation='linear'))"
   ],
   "outputs": []
  },
  {
   "cell_type": "code",
   "execution_count": 131,
   "id": "20aef9c6-2327-4a54-b2d8-f4fb329336ce",
   "metadata": {
    "ExecuteTime": {
     "end_time": "2024-04-23T05:30:28.594314Z",
     "start_time": "2024-04-23T05:30:28.588237Z"
    },
    "tags": []
   },
   "source": [
    "model.summary()"
   ],
   "outputs": []
  },
  {
   "cell_type": "code",
   "execution_count": 133,
   "id": "8860bf17-ea1f-4e16-aaf1-d94c55e71c74",
   "metadata": {
    "ExecuteTime": {
     "end_time": "2024-04-23T05:30:28.599226Z",
     "start_time": "2024-04-23T05:30:28.594967Z"
    },
    "tags": []
   },
   "source": [
    "# 回归问题（损失函数 - 均方误差）\n",
    "model.compile(loss='mean_squared_error', optimizer='Adam')"
   ],
   "outputs": []
  },
  {
   "cell_type": "code",
   "execution_count": 135,
   "id": "95186e93-b1a1-4154-9d29-4df62b5c4d53",
   "metadata": {
    "ExecuteTime": {
     "end_time": "2024-04-23T05:30:38.599418Z",
     "start_time": "2024-04-23T05:30:28.599647Z"
    },
    "tags": []
   },
   "source": [
    "history = model.fit(X_train, y_train, epochs=100, validation_split=0.2)"
   ],
   "outputs": []
  },
  {
   "cell_type": "code",
   "execution_count": 140,
   "id": "9cf66c461de18e0f",
   "metadata": {
    "ExecuteTime": {
     "end_time": "2024-04-23T05:30:38.694696Z",
     "start_time": "2024-04-23T05:30:38.600212Z"
    },
    "tags": []
   },
   "source": [
    "y_pred = model.predict(X_test)"
   ],
   "outputs": []
  },
  {
   "cell_type": "code",
   "execution_count": 142,
   "id": "f8d725c7-ed6f-4141-a775-de52c7066027",
   "metadata": {
    "ExecuteTime": {
     "end_time": "2024-04-23T05:30:38.697796Z",
     "start_time": "2024-04-23T05:30:38.695283Z"
    },
    "tags": []
   },
   "source": [
    "from sklearn.metrics import r2_score\n",
    "\n",
    "r2_score(y_test, y_pred)"
   ],
   "outputs": []
  },
  {
   "cell_type": "code",
   "execution_count": 144,
   "id": "689e3731-f9e8-4477-b9c2-7caa1e11ec97",
   "metadata": {
    "ExecuteTime": {
     "end_time": "2024-04-23T05:30:38.724204Z",
     "start_time": "2024-04-23T05:30:38.698264Z"
    },
    "tags": []
   },
   "source": [
    "model.save('models/model.keras')"
   ],
   "outputs": []
  },
  {
   "cell_type": "code",
   "execution_count": 146,
   "id": "4cfc67e9-b14e-4054-9751-618d0f723b17",
   "metadata": {
    "ExecuteTime": {
     "end_time": "2024-04-23T05:30:38.792639Z",
     "start_time": "2024-04-23T05:30:38.724868Z"
    },
    "tags": []
   },
   "source": [
    "plt.plot(history.history['loss'])\n",
    "plt.plot(history.history['val_loss'])"
   ],
   "outputs": []
  },
  {
   "cell_type": "code",
   "execution_count": 148,
   "id": "1d9552ce-c7c8-4670-b414-7ad208d95a36",
   "metadata": {
    "ExecuteTime": {
     "end_time": "2024-04-23T05:30:38.797415Z",
     "start_time": "2024-04-23T05:30:38.793267Z"
    },
    "tags": []
   },
   "source": [
    "df.head()"
   ],
   "outputs": []
  },
  {
   "cell_type": "markdown",
   "id": "24f9ee16-2315-4680-88fa-cfeb421eade8",
   "metadata": {},
   "source": [
    "通过增加 epoch 数量并使用额外的隐藏层细化模型架构，R2 分数显着提高。"
   ]
  },
  {
   "cell_type": "code",
   "execution_count": 153,
   "id": "920434b9-66ff-4ccf-9218-db7c7cc44549",
   "metadata": {
    "ExecuteTime": {
     "end_time": "2024-04-23T05:30:39.000543Z",
     "start_time": "2024-04-23T05:30:38.798500Z"
    },
    "tags": []
   },
   "source": [
    "from tensorflow.keras.models import load_model\n",
    "\n",
    "# 加载模型\n",
    "loaded_model = load_model('models/model.keras')\n",
    "\n",
    "data = pd.read_csv('Graduate Admission/Admission_Predict_Ver1.1.csv')\n",
    "\n",
    "data = data[['GRE Score', 'TOEFL Score', 'University Rating', 'SOP', 'LOR', 'CGPA', 'Research']]\n",
    "\n",
    "# 标准化数据\n",
    "data_scaled = scaler.transform(data)\n",
    "# 使用加载的模型进行预测\n",
    "predictions = loaded_model.predict(data_scaled)\n",
    "\n",
    "print(predictions[:10])"
   ],
   "outputs": []
  },
  {
   "cell_type": "code",
   "execution_count": 155,
   "id": "7c97119c-28ab-4b25-8874-598b78e94f1d",
   "metadata": {
    "ExecuteTime": {
     "end_time": "2024-04-23T05:30:39.049574Z",
     "start_time": "2024-04-23T05:30:39.001081Z"
    },
    "tags": []
   },
   "source": [
    "from tensorflow.keras.models import load_model\n",
    "\n",
    "model_path = 'models/model.keras'\n",
    "model = load_model(model_path)\n",
    "\n",
    "model.summary()\n"
   ],
   "outputs": []
  },
  {
   "cell_type": "code",
   "execution_count": 157,
   "id": "123c7a8a-1f24-4a23-a7b1-af27bbcf7720",
   "metadata": {
    "ExecuteTime": {
     "end_time": "2024-04-23T05:30:39.052095Z",
     "start_time": "2024-04-23T05:30:39.050092Z"
    },
    "tags": []
   },
   "source": [
    "from sklearn.linear_model import LinearRegression,LogisticRegression\n",
    "from sklearn.tree import DecisionTreeRegressor,DecisionTreeClassifier\n",
    "from sklearn.ensemble import RandomForestRegressor,RandomForestClassifier\n",
    "from sklearn.ensemble import GradientBoostingRegressor,GradientBoostingClassifier\n",
    "from sklearn.ensemble import AdaBoostRegressor,AdaBoostClassifier\n",
    "from sklearn.ensemble import ExtraTreesRegressor,ExtraTreesClassifier\n",
    "from sklearn.neighbors import KNeighborsRegressor,KNeighborsClassifier\n",
    "from sklearn.svm import SVR,SVC\n",
    "from sklearn.naive_bayes import GaussianNB\n",
    "\n",
    "from sklearn.metrics import accuracy_score,mean_squared_error"
   ],
   "outputs": []
  },
  {
   "cell_type": "code",
   "execution_count": 159,
   "id": "812d0ab6-4479-4dd8-aac3-4e5e65f0e8fd",
   "metadata": {
    "ExecuteTime": {
     "end_time": "2024-04-23T05:30:39.190079Z",
     "start_time": "2024-04-23T05:30:39.052569Z"
    },
    "tags": []
   },
   "source": [
    "from sklearn.tree import DecisionTreeRegressor\n",
    "from sklearn.ensemble import RandomForestRegressor, AdaBoostRegressor\n",
    "from sklearn.linear_model import LinearRegression\n",
    "from sklearn.neighbors import KNeighborsRegressor\n",
    "from sklearn.metrics import r2_score, mean_squared_error\n",
    "from joblib import dump\n",
    "\n",
    "# 初始化各种模型\n",
    "dtree = DecisionTreeRegressor(random_state=42)  # 决策树回归模型\n",
    "rf = RandomForestRegressor(n_estimators=100, random_state=42)  # 随机森林回归模型\n",
    "knn = KNeighborsRegressor(n_neighbors=5)  # K-最近邻回归模型\n",
    "lr = LinearRegression()  # 线性回归模型\n",
    "ada = AdaBoostRegressor(random_state=42)  # AdaBoost回归模型\n",
    "\n",
    "# 用于存储模型的字典\n",
    "models = {\n",
    "    \"Decision Tree\": dtree,\n",
    "    \"Random Forest\": rf,\n",
    "    \"KNN\": knn,\n",
    "    \"Linear Regression\": lr,\n",
    "    \"AdaBoost\": ada\n",
    "}\n",
    "results = {}\n",
    "\n",
    "# 训练并评估每个模型\n",
    "for name, model in models.items():\n",
    "    model.fit(X_train, y_train)  # 训练模型\n",
    "    predictions = model.predict(X_test)  # 对测试集进行预测\n",
    "    r2 = r2_score(y_test, predictions)  # 计算 R² 分数\n",
    "    mse = mean_squared_error(y_test, predictions)  # 计算均方误差\n",
    "    results[name] = (r2, mse)  # 存储每个模型的评估结果\n",
    "    file_path = f'models/{name.replace(\" \", \"_\")}_model.joblib'  # 创建文件名，替换空格以防文件名错误\n",
    "    dump(model, file_path)  # 使用 joblib 的 dump 函数保存模型\n",
    "    print(f\"{name} model saved at: {file_path}\")\n",
    "\n",
    "\n",
    "# 输出评估结果\n",
    "for name, scores in results.items():\n",
    "    print(f\"{name} - R²: {scores[0]:.3f}, MSE: {scores[1]:.3f}\")"
   ],
   "outputs": []
  },
  {
   "cell_type": "code",
   "execution_count": 165,
   "id": "53efe9b6-1c23-443f-a194-c0248fba83d2",
   "metadata": {
    "ExecuteTime": {
     "end_time": "2024-04-23T05:30:39.196862Z",
     "start_time": "2024-04-23T05:30:39.190644Z"
    },
    "tags": []
   },
   "source": [
    "from tensorflow.keras.models import load_model\n",
    "import joblib\n",
    "\n",
    "# 加载模型\n",
    "job_model = joblib.load(f\"models/Linear_Regression_model.joblib\")\n",
    "\n",
    "data = pd.read_csv('Graduate Admission/Admission_Predict_Ver1.1.csv')\n",
    "\n",
    "data = data[['GRE Score', 'TOEFL Score', 'University Rating', 'SOP', 'LOR', 'CGPA', 'Research']]\n",
    "print(job_model)\n",
    "# 标准化数据\n",
    "data_scaled = scaler.transform(data)\n",
    "# 使用加载的模型进行预测\n",
    "predictions = job_model.predict(data_scaled)\n",
    "\n",
    "predictions[:10]"
   ],
   "outputs": []
  }
 ],
 "metadata": {
  "kernelspec": {
   "display_name": "Python 3 (ipykernel)",
   "language": "python",
   "name": "python3"
  },
  "language_info": {
   "codemirror_mode": {
    "name": "ipython",
    "version": 3
   },
   "file_extension": ".py",
   "mimetype": "text/x-python",
   "name": "python",
   "nbconvert_exporter": "python",
   "pygments_lexer": "ipython3",
   "version": "3.11.8"
  }
 },
 "nbformat": 4,
 "nbformat_minor": 5
}
